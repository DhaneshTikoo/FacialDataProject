{
  "cells": [
    {
      "cell_type": "markdown",
      "metadata": {
        "id": "5B0OoZubwSh7"
      },
      "source": [
        "#Imports"
      ]
    },
    {
      "cell_type": "code",
      "execution_count": 68,
      "metadata": {
        "id": "_CCMDl6YR1qG"
      },
      "outputs": [],
      "source": [
        "# importing needed modules\n",
        "import pandas as pd\n",
        "import numpy as np\n",
        "import matplotlib.pyplot as plt\n",
        "import math\n",
        "import time\n",
        "from operator import itemgetter\n",
        "# imports & enables zoom functionality for graphs\n",
        "# import mpld3\n",
        "# mpld3.enable_notebook()\n",
        "# disables zoom functionality for graphs\n",
        "# mpld3.disable_notebook()"
      ]
    },
    {
      "cell_type": "markdown",
      "metadata": {
        "id": "ZE8CsBLuwarI"
      },
      "source": [
        "#Read in Data and Establish Variables"
      ]
    },
    {
      "cell_type": "markdown",
      "source": [
        "##Setup Functions"
      ],
      "metadata": {
        "id": "qIeDknEwFL5m"
      }
    },
    {
      "cell_type": "code",
      "source": [
        "def importData(myfile, myPath):\n",
        "  \"\"\"\n",
        "  imports the data from the file to a dataframe\n",
        "  myFile: string\n",
        "    the name of the text file where the data is located, including the filetype suffix\n",
        "\n",
        "  returns:\n",
        "    imported dataframe\n",
        "  \"\"\"\n",
        "  pathFull = myPath + \"/\" + myfile\n",
        "  data = pd.read_csv(pathFull, header = None, skiprows=22)\n",
        "  data.columns = my_cols\n",
        "  return data"
      ],
      "metadata": {
        "id": "BZoI285nFLdO"
      },
      "execution_count": 2,
      "outputs": []
    },
    {
      "cell_type": "code",
      "source": [
        "def derivative(x,y):\n",
        "  \"\"\"\n",
        "  inputs x and y lists and returns the x and y lists for that graph's derivative:\n",
        "  reduces the length of x by 1 and takes the derivative of y\n",
        "  x: list, array\n",
        "  y: list, array\n",
        "    the x and y lists for a graph\n",
        "\n",
        "  returns:\n",
        "    the modified x and y lists\n",
        "  \"\"\"\n",
        "  dydx = np.diff(y)/np.diff(x)\n",
        "  dydx_x = x[:-1]\n",
        "  return dydx_x, dydx"
      ],
      "metadata": {
        "id": "ZSaNw1NGFUWv"
      },
      "execution_count": 3,
      "outputs": []
    },
    {
      "cell_type": "code",
      "source": [
        "def generateDerivatives(data):\n",
        "  \"\"\"\n",
        "  creates dataframes for the derivatives of a dataframe's columns\n",
        "  data: dataframe\n",
        "    the name of the text file where the data is located, including the filetype suffix\n",
        "\n",
        "  returns:\n",
        "    der1: the first derivative of the columns of data\n",
        "    der2: the second derivative of the columns of data\n",
        "  \"\"\"\n",
        "  der1 = pd.DataFrame()\n",
        "  der2 = pd.DataFrame()\n",
        "\n",
        "  # create derivative 1\n",
        "  der1 = pd.concat([der1, data[\"bs\"][:-1]], axis=1)\n",
        "  der1 = pd.concat([der1, data[Milliseconds][:-1]], axis=1)\n",
        "  for col in data.columns[2:]:\n",
        "    column = data[col]\n",
        "    x = []\n",
        "    x, column_der = derivative(data[Milliseconds], column)\n",
        "    column_der = pd.Series(column_der)\n",
        "    der1 = pd.concat([der1, column_der.rename(col)], axis=1)\n",
        "\n",
        "  # create derivative 2\n",
        "  der2 = pd.concat([der2, data[\"bs\"][:-2]], axis=1)\n",
        "  der2 = pd.concat([der2, data[Milliseconds][:-2]], axis=1)\n",
        "  for col in der1.columns[2:]:\n",
        "    column = der1[col]\n",
        "    x = []\n",
        "    x, column_der2 = derivative(der1[Milliseconds], column)\n",
        "    column_der2 = pd.Series(column_der2)\n",
        "    der2 = pd.concat([der2, column_der2.rename(col)], axis=1)\n",
        "\n",
        "  return der1, der2"
      ],
      "metadata": {
        "id": "Qp4i0xh7FXmB"
      },
      "execution_count": 4,
      "outputs": []
    },
    {
      "cell_type": "markdown",
      "metadata": {
        "id": "zht61QeWLure"
      },
      "source": [
        "##Establish Variables"
      ]
    },
    {
      "cell_type": "code",
      "execution_count": 5,
      "metadata": {
        "id": "89QZGFHEKh2d"
      },
      "outputs": [],
      "source": [
        "# setting column titles corresponding to the blendshapes\n",
        "my_cols = ['bs', 'Nano seconds', 'head x', 'head y', 'head z', 'EA x', 'EA y',\n",
        "       'EA z', 'LE x', 'LE y', 'RE x', 'RE y', 'browInnerUp', 'browDown_L',\n",
        "       'browDown_R', 'browOuterUp_L', 'browOuterUp_R', 'eyeLookUp_L',\n",
        "       'eyeLookUp_R', 'eyeLookDown_L', 'eyeLookDown_R', 'eyeLookIn_L',\n",
        "       'eyeLookIn_R', 'eyeLookOut_L', 'eyeLookOut_R', 'eyeBlink_L',\n",
        "       'eyeBlink_R', 'eyeSquint_L', 'eyeSquint_R', 'eyeWide_L', 'eyeWide_R',\n",
        "       'cheekPuff', 'cheekSquint_L', 'cheekSquint_R', 'noseSneer_L',\n",
        "       'noseSneer_R', 'jawOpen', 'jawForward', 'jawLeft', 'jawRight',\n",
        "       'mouthFunnel', 'mouthPucker', 'mouthLeft', 'mouthRight',\n",
        "       'mouthRollUpper', 'mouthRollLower', 'mouthShrugUpper',\n",
        "       'mouthShrugLower', 'mouthClose', 'mouthSmile_L', 'mouthSmile_R',\n",
        "       'mouthFrown_L', 'mouthFrown_R', 'mouthDimple_L', 'mouthDimple_R',\n",
        "       'mouthUpperUp_L', 'mouthUpperUp_R', 'mouthLowerDown_L',\n",
        "       'mouthLowerDown_R', 'mouthPress_L', 'mouthPress_R', 'mouthStretch_L',\n",
        "       'mouthStretch_R', 'tongueOut']"
      ]
    },
    {
      "cell_type": "code",
      "execution_count": 6,
      "metadata": {
        "id": "Cwab_Umuxtaa"
      },
      "outputs": [],
      "source": [
        "# defining pairs of columns\n",
        "colPairs = {\n",
        "  'EulerAngles': ['EA x', 'EA y'],\n",
        "  'EyeX':['LE x', 'RE x'],\n",
        "  'EyeY': ['LE y', 'RE y'],\n",
        "  'browDown':['browDown_L', 'browDown_R'],\n",
        "  'browOuterUp':['browOuterUp_L', 'browOuterUp_R'],\n",
        "  'eyeLookUp':['eyeLookUp_L', 'eyeLookUp_R'],\n",
        "  'eyeLookDown':['eyeLookDown_L', 'eyeLookDown_R'],\n",
        "  'eyeLookIn':['eyeLookIn_L', 'eyeLookIn_R'],\n",
        "  'eyeLookOut':['eyeLookOut_L', 'eyeLookOut_R'],\n",
        "  'eyeBlink':['eyeBlink_L', 'eyeBlink_R'], \n",
        "  'eyeSquint':['eyeSquint_L', 'eyeSquint_R'], \n",
        "  'eyeWide':['eyeWide_L', 'eyeWide_R'],\n",
        "  'cheekSquint':['cheekSquint_L', 'cheekSquint_R'], \n",
        "  'noseSneer':['noseSneer_L', 'noseSneer_R'], \n",
        "  'jaw':['jawLeft', 'jawRight'],\n",
        "  'mouth':['mouthLeft', 'mouthRight'],\n",
        "  'mouthRoll':['mouthRollUpper', 'mouthRollLower'] ,\n",
        "  'mouthShrug':['mouthShrugUpper',  'mouthShrugLower'], \n",
        "  'mouthSmile':['mouthSmile_L', 'mouthSmile_R'],\n",
        "  'mouthFrown':['mouthFrown_L', 'mouthFrown_R'], \n",
        "  'mouthDimple':['mouthDimple_L', 'mouthDimple_R'],\n",
        "  'mouthUpper':['mouthUpperUp_L', 'mouthUpperUp_R'],\n",
        "  'mouthLower':['mouthLowerDown_L','mouthLowerDown_R'], \n",
        "  'mouthPress':['mouthPress_L', 'mouthPress_R'], \n",
        "  'mouthStretch':['mouthStretch_L','mouthStretch_R']\n",
        "}"
      ]
    },
    {
      "cell_type": "code",
      "execution_count": 7,
      "metadata": {
        "id": "YFLXq-o_KulZ"
      },
      "outputs": [],
      "source": [
        "# defines Milliseconds as the string of the millisecond column\n",
        "Milliseconds = my_cols[1]\n",
        "# defining the location of the folder where data is stored\n",
        "myPath = '/content/drive/Othercomputers/My MacBook Pro/Desktop Synced'"
      ]
    },
    {
      "cell_type": "markdown",
      "metadata": {
        "id": "0BQSngN9Lfyu"
      },
      "source": [
        "##Reading in Data"
      ]
    },
    {
      "cell_type": "code",
      "execution_count": 8,
      "metadata": {
        "id": "0yqp8wEpw8CW"
      },
      "outputs": [],
      "source": [
        "#importing the data tables to dataframes\n",
        "data = importData('NormalFace1.txt', myPath)\n",
        "data2 = importData('FC_2021-12-24_15-28-16_dad.txt', myPath)\n",
        "data3 = importData('FC_2022-3-25_15-36-43_ bells follow up. .txt', myPath)\n",
        "data4 = importData('FC_2022-4-17_11-29-48_ ino normal.txt', myPath+'/4-17-22')\n",
        "data5 = importData('FC_2022-4-16_10-33-55_ pakinsons with jaw tremor.txt', myPath+'/4-17-22')\n",
        "data6 = importData('FC_2022-5-14_11-10-29_titubation db.txt', myPath)\n",
        "data7 = importData('FC_2022-5-18_13-23-14_ino dr left.txt', myPath+'/5-22-22')\n",
        "data8 = importData('FC_2022-5-23_0-20-50_ ino normal.txt', myPath+'/5-22-22')\n",
        "data9 = importData('FC_2022-5-26_11-16-51_ia ino left nysagmus.txt', myPath)\n",
        "data10 = importData('FC_2022-7-17_18-39-51_ cross.txt', myPath)\n",
        "data11 = importData('FC_2022-4-16_10-57-44_ partial right left ino.txt', myPath)\n",
        "data12 = importData('FC_2022-5-18_13-23-14_ino dr left.txt', myPath)\n",
        "data13 = importData('FC_2022-5-26_11-16-51_ia left cimplex nystag. bilat inos.txt', myPath)"
      ]
    },
    {
      "cell_type": "code",
      "execution_count": 9,
      "metadata": {
        "id": "HEAyfohxXYzp"
      },
      "outputs": [],
      "source": [
        "# creating derivative dataframes\n",
        "data_vel, data_accel = generateDerivatives(data)\n",
        "data2_vel, data2_accel = generateDerivatives(data2)\n",
        "data3_vel, data3_accel = generateDerivatives(data3)\n",
        "data4_vel, data4_accel = generateDerivatives(data4)\n",
        "data5_vel, data5_accel = generateDerivatives(data5)\n",
        "data6_vel, data6_accel = generateDerivatives(data6)\n",
        "data7_vel, data7_accel = generateDerivatives(data7)\n",
        "data8_vel, data8_accel = generateDerivatives(data8)\n",
        "data9_vel, data9_accel = generateDerivatives(data9)\n",
        "data10_vel, data10_accel = generateDerivatives(data10)\n",
        "data11_vel, data11_accel = generateDerivatives(data11)\n",
        "data12_vel, data12_accel = generateDerivatives(data12)\n",
        "data13_vel, data13_accel = generateDerivatives(data13)"
      ]
    },
    {
      "cell_type": "markdown",
      "metadata": {
        "id": "eJuFMNe7-ndR"
      },
      "source": [
        "#Graphing & Analysis"
      ]
    },
    {
      "cell_type": "markdown",
      "source": [
        "##Graph Column or ColPair Section (FINAL)"
      ],
      "metadata": {
        "id": "nqrZPRSM1PyH"
      }
    },
    {
      "cell_type": "code",
      "source": [
        "def GraphColumnsSection(colTitles = [], df = data, together = False, xstart = 0, xend = None):\n",
        "  \"\"\"\n",
        "  graphs the given columns from the given dataframe, with a restricted x axis\n",
        "  colTitles: list, array\n",
        "    a list or array of all names of columns which will be graphed\n",
        "  df: dataframe\n",
        "    the dataframe that the columns will be from\n",
        "  together: boolean\n",
        "    Whether or not the graphs will be overlayed or not\n",
        "  xstart: integer\n",
        "    The lowest value for the x axis\n",
        "  xend: integer\n",
        "    The highest value for the x axis\n",
        "  \"\"\"\n",
        "  # if xend is not input\n",
        "  if xend == None:\n",
        "    # set the maximum x value to the highest it can be with the given dataframe\n",
        "    xend = max(df[Milliseconds])\n",
        "  # if together is True, graph both graphs on the same axis\n",
        "  if together:\n",
        "    fig, ax = plt.subplots(1, 1, figsize = (8, 6))\n",
        "    for colTitle in colTitles:\n",
        "      ax.plot(df[Milliseconds], df[colTitle], label = colTitle)\n",
        "      ax.legend()\n",
        "      ax.set_xlim(xstart, xend)\n",
        "  # otherwise, graph them on different axes\n",
        "  else:\n",
        "    fig, ax = plt.subplots(len(colTitles), 1, figsize = (8, 6*len(colTitles)))\n",
        "    for i in range(len(colTitles)):\n",
        "      ax[i].plot(df[Milliseconds], df[colTitles[i]], label = colTitles[i])\n",
        "      ax[i].legend()\n",
        "      ax[i].set_xlim(xstart, xend)"
      ],
      "metadata": {
        "id": "hs-UYpVt1TeE"
      },
      "execution_count": 10,
      "outputs": []
    },
    {
      "cell_type": "code",
      "source": [
        "def GraphColPairsSection(pairs = [], df = data, xstart = 0, xend = None):\n",
        "  \"\"\"\n",
        "  graphs the given column pairs from the given dataframe, with a restricted x axis\n",
        "  pairs: list, array\n",
        "    a list or array of all names of column pairs which will be graphed\n",
        "  df: dataframe\n",
        "    the dataframe that the columns will be from\n",
        "  xstart: integer\n",
        "    The lowest value for the x axis\n",
        "  xend: integer\n",
        "    The highest value for the x axis\n",
        "  \"\"\"\n",
        "  # if xend is not input\n",
        "  if xend == None:\n",
        "    # set the maximum x value to the highest it can be with the given dataframe\n",
        "    xend = max(df[Milliseconds])\n",
        "  # create figure and axis\n",
        "  fig, ax = plt.subplots(1, 1, figsize = (8, 6))\n",
        "  # graph each pair with the restricted x axis\n",
        "  for pairName in pairs:\n",
        "    colPairs[pairName][0]\n",
        "    ax.plot(df[Milliseconds], df[colPairs[pairName][0]], label = colPairs[pairName][0])\n",
        "    ax.plot(df[Milliseconds], df[colPairs[pairName][1]], label = colPairs[pairName][1])\n",
        "    ax.legend()\n",
        "    ax.set_xlim(xstart, xend)"
      ],
      "metadata": {
        "id": "hH4MEkUeja8V"
      },
      "execution_count": 11,
      "outputs": []
    },
    {
      "cell_type": "code",
      "source": [
        "GraphColPairsSection(['EyeY'], data10, 11000, 14000)"
      ],
      "metadata": {
        "colab": {
          "base_uri": "https://localhost:8080/",
          "height": 374
        },
        "id": "TzHofXLhXOCk",
        "outputId": "fa4323e0-6015-4eb8-aa57-3b51d1d2c5e4"
      },
      "execution_count": 12,
      "outputs": [
        {
          "output_type": "display_data",
          "data": {
            "text/plain": [
              "<Figure size 576x432 with 1 Axes>"
            ],
            "image/png": "[encoded data removed]"
          },
          "metadata": {
            "needs_background": "light"
          }
        }
      ]
    },
    {
      "cell_type": "markdown",
      "metadata": {
        "id": "GOGGrdnDco2w"
      },
      "source": [
        "##Graph Plot Data"
      ]
    },
    {
      "cell_type": "code",
      "execution_count": 13,
      "metadata": {
        "id": "27Po0l-8EU8o"
      },
      "outputs": [],
      "source": [
        "def graphPlotData(dataTitle=[Milliseconds], veloc=False, accel=False):\n",
        "  \"\"\"\n",
        "  graphs the desired column of data with its derivative \n",
        "  optionally graphs velocity as well\n",
        "  optionally graphs acceleration as well\n",
        "  dataTitle: list, array\n",
        "    A list or array composed of strings that are the names of columns in data\n",
        "  veloc: Boolean\n",
        "    If true, graphs velocity additionally\n",
        "  accel: Boolean\n",
        "    If true, graphs acceleration additionally\n",
        "\n",
        "  returns:\n",
        "    a figure with the specified options\n",
        "\n",
        "  example:\n",
        "  fig, ax = graphPlotData(['browDown_L'], True, True)\n",
        "  fig.show()\n",
        "  \"\"\"\n",
        "  #increase graph size if plotting velocity, acceleration\n",
        "  if veloc == True and accel == True:\n",
        "    extraDer = 3\n",
        "    figsize=(27, 6)\n",
        "  elif (veloc == True and accel == False) or (veloc == False and accel == True):\n",
        "    extraDer = 2\n",
        "    figsize=(18, 6)\n",
        "  elif veloc == False and accel == False:\n",
        "    extraDer = 1\n",
        "    figsize=(9, 6)\n",
        "\n",
        "  #creating the plot with 1 row, extraDer columns, and the above established figure size\n",
        "  fig, ax = plt.subplots(1, extraDer, figsize = figsize)\n",
        "  \n",
        "  #traverses the array and performs the following for all entries in the array\n",
        "  for cols in dataTitle:\n",
        "    #error-catching for invalid \"bs\" column\n",
        "    if cols == my_cols[0]:\n",
        "      cols = Milliseconds\n",
        "      print('Error: Cannot graph \\'bs\\'')\n",
        "    # if only position, do not treat ax as a list\n",
        "    if extraDer == 1:\n",
        "      x=data[Milliseconds]\n",
        "      y=data[cols]\n",
        "      ax.plot(x,y, label=cols)\n",
        "      ax.set_title('Position')\n",
        "      ax.legend()\n",
        "      return fig, ax\n",
        "    #graphs a given column's data in velocity and acceleration\n",
        "    x=data[Milliseconds]\n",
        "    y=data[cols]\n",
        "    ax[0].plot(x,y, label=cols)\n",
        "    ax[0].set_title('Position')\n",
        "    ax[0].legend()\n",
        "    # graphs velocity\n",
        "    if veloc == True:\n",
        "      der_x, der_y = derivative(x,y)\n",
        "      ax[1].plot(der_x,der_y, label=cols)\n",
        "      ax[1].set_title('Velocity')\n",
        "      ax[1].legend()\n",
        "    #graphs acceleration\n",
        "    if accel == True:\n",
        "      der_x, der_y = derivative(x,y)\n",
        "      der2_x, der2_y = derivative(der_x, der_y)\n",
        "      ax[-1].plot(der2_x, der2_y, label=cols)\n",
        "      ax[-1].set_title('Acceleration')\n",
        "      ax[-1].legend()\n",
        "  return fig, ax"
      ]
    },
    {
      "cell_type": "markdown",
      "source": [
        "##Graph All (FINAL)"
      ],
      "metadata": {
        "id": "2tk2Eadx3wKL"
      }
    },
    {
      "cell_type": "code",
      "source": [
        "def graphAll(dfs = [], titles = [], skinnyGraph = True, scaled = False):\n",
        "  if skinnyGraph == True:\n",
        "    totalRows, totalColumns, figsize = skinnyGraphSizesFull(dfs)\n",
        "  else:\n",
        "    totalRows, totalColumns, figsize = squareGraphSizesFull(dfs)\n",
        "  \n",
        "  fig, ax = plt.subplots(totalRows, totalColumns, figsize = figsize)\n",
        "\n",
        "  if scaled == True:\n",
        "    plt.setp(ax, ylim = (0, 1))\n",
        "\n",
        "  graphCol(dfs, titles, ax, totalRows, totalColumns)\n",
        "  # return fig"
      ],
      "metadata": {
        "id": "AqKm7WrhfSjP"
      },
      "execution_count": 14,
      "outputs": []
    },
    {
      "cell_type": "code",
      "source": [
        "def graphAllToFile(dfs = [], titles = [], skinnyGraph = True, scaled = False):\n",
        "  if skinnyGraph == True:\n",
        "    totalRows, totalColumns, figsize = skinnyGraphSizesFull(dfs)\n",
        "  else:\n",
        "    totalRows, totalColumns, figsize = squareGraphSizesFull(dfs)\n",
        "  \n",
        "  fig, ax = plt.subplots(totalRows, totalColumns, figsize = figsize)\n",
        "\n",
        "  if scaled == True:\n",
        "    plt.setp(ax, ylim = (0, 1))\n",
        "\n",
        "  graphCol(dfs, titles, ax, totalRows)\n",
        "  saveGraph(fig, \"AllGraphs\")"
      ],
      "metadata": {
        "id": "i8TWVkSL31J9"
      },
      "execution_count": 15,
      "outputs": []
    },
    {
      "cell_type": "markdown",
      "source": [
        "###Internal Functions"
      ],
      "metadata": {
        "id": "yB0O3LkGhVXn"
      }
    },
    {
      "cell_type": "code",
      "source": [
        "def skinnyGraphSizesFull(dfs = []): \n",
        "  totalRows = len(dfs[0].columns)-2\n",
        "  totalColumns = len(dfs)\n",
        "  figsize=(8*totalColumns, 6*totalRows)\n",
        "  return totalRows, totalColumns, figsize"
      ],
      "metadata": {
        "id": "i3rIlKuhgeTq"
      },
      "execution_count": 16,
      "outputs": []
    },
    {
      "cell_type": "code",
      "source": [
        "def squareGraphSizesFull(dfs = []):\n",
        "  totalGraphsNum = len(dfs)*(len(dfs[0].columns)-2)\n",
        "  totalRows = math.floor(math.sqrt(totalGraphsNum))\n",
        "  totalColumns = math.ceil(totalGraphsNum/totalRows)\n",
        "  while totalColumns % len(dfs) != 0:\n",
        "      totalColumns+=1\n",
        "  figsize=(8*totalColumns, 6*totalRows)\n",
        "  return totalRows, totalColumns, figsize"
      ],
      "metadata": {
        "id": "3dxyb_ODhgf2"
      },
      "execution_count": 17,
      "outputs": []
    },
    {
      "cell_type": "code",
      "source": [
        "def graphCol(dfs = [], titles = [], ax = \"Placeholder\", totalRows = 20, totalColumns = 9):\n",
        "  row = 0\n",
        "  column = 0\n",
        "  colTitles = dfs[0].columns[2:]\n",
        "  if totalColumns > 1:\n",
        "    for col in colTitles:\n",
        "      for i in range(0, len(dfs)):\n",
        "        x=dfs[i][Milliseconds]\n",
        "        y=dfs[i][col]\n",
        "\n",
        "        ax[row, column+i].plot(x,y, label=col)\n",
        "        ax[row, column+i].set_title(f'{titles[i]}')\n",
        "        ax[row, column+i].legend()\n",
        "      row+=1\n",
        "      if row%totalRows==0:\n",
        "        row = 0\n",
        "        column+=len(dfs)\n",
        "  # else:\n",
        "  #   for col in colTitles:\n",
        "  #     x=dfs[0][Milliseconds]\n",
        "  #     y=dfs[0][col]\n",
        "\n",
        "  #     ax[row].plot(x,y, label=col)\n",
        "  #     ax[row].set_title(f'{titles[0]}')\n",
        "  #     ax[row].legend()\n",
        "  #     row+=1"
      ],
      "metadata": {
        "id": "ByZ5IST8iKSn"
      },
      "execution_count": 18,
      "outputs": []
    },
    {
      "cell_type": "markdown",
      "metadata": {
        "id": "1txNAih4csBT"
      },
      "source": [
        "##Fourier Transform Functions (FINAL)"
      ]
    },
    {
      "cell_type": "code",
      "execution_count": 19,
      "metadata": {
        "id": "YpyMQC6FkoTJ"
      },
      "outputs": [],
      "source": [
        "def compareFourierTransforms(dfs = [], titles = [], skinnyGraph = True):\n",
        "  if skinnyGraph == True:\n",
        "    totalRows, totalColumns, figsize = FourierskinnyGraphSizes(dfs)\n",
        "  else:\n",
        "    totalRows, totalColumns, figsize = FouriersquareGraphSizes(dfs)\n",
        "\n",
        "  fig, ax = plt.subplots(totalRows, totalColumns, figsize = figsize)\n",
        "\n",
        "  for i in range(len(dfs)):\n",
        "    for j in range(len(my_cols[12:])):\n",
        "      FFT = np.fft.fft(dfs[i][my_cols[j+12]])\n",
        "      freq = np.arange(len(dfs[i][Milliseconds]))/dfs[i][Milliseconds][len(dfs[i][Milliseconds])-1] # scale by dividing by max time\n",
        "      ax[j].plot(freq,np.abs(FFT))\n",
        "      ax[j].set_title(f\"{titles[i]}, {[my_cols[j+12]]}\")\n",
        "\n",
        "  display(fig)\n",
        "  return fig"
      ]
    },
    {
      "cell_type": "code",
      "execution_count": 20,
      "metadata": {
        "id": "F7hyWRE4cupQ"
      },
      "outputs": [],
      "source": [
        "def fourierTransform(df = data):\n",
        "  for col in my_cols[2:]:\n",
        "    SecondsfromNano = df[Milliseconds]/1000\n",
        "    \n",
        "    FFT = np.fft.fft(df[col])\n",
        "    freq = np.arange(len(SecondsfromNano))/SecondsfromNano[len(SecondsfromNano)-1] # scale by dividing by max time\n",
        "    fig, ax = plt.subplots(1,1, figsize = (10,8))\n",
        "    ax.set_xlim(0, 30)\n",
        "    ax.plot(freq,np.abs(FFT))\n",
        "    ax.set_title(col)"
      ]
    },
    {
      "cell_type": "code",
      "source": [
        "def fourierTransformInterval(df = data, col = \"LE x\", startinit = 0, endinit = 10000, xlim = (0, 30), ylim = None):\n",
        "  start = findInDf(startinit, df)\n",
        "  end = findInDf(endinit, df)\n",
        "\n",
        "  SecondsfromNano = df[Milliseconds][start:end]/1000\n",
        "\n",
        "  FFT = np.fft.fft(df[col][start:end])\n",
        "  freq = np.arange(len(SecondsfromNano))/(SecondsfromNano[end-1]-SecondsfromNano[start]) # scale by dividing by max time\n",
        "  fig, ax = plt.subplots(1,1, figsize = (10,8))\n",
        "  ax.set_xlim(xlim)\n",
        "  if ylim != None:\n",
        "    ax.set_ylim(ylim)\n",
        "  ax.plot(freq,np.abs(FFT))\n",
        "  ax.set_title(col)\n",
        "  plt.show()"
      ],
      "metadata": {
        "id": "bG5kXkwXpDZA"
      },
      "execution_count": 21,
      "outputs": []
    },
    {
      "cell_type": "markdown",
      "metadata": {
        "id": "fG2I9vcCozNm"
      },
      "source": [
        "###Internal Functions"
      ]
    },
    {
      "cell_type": "code",
      "execution_count": 22,
      "metadata": {
        "id": "HV36xLTaoaaz"
      },
      "outputs": [],
      "source": [
        "def FouriersquareGraphSizes(dfs = []):\n",
        "  totalGraphsNum = len(dfs)*len(my_cols[12:])\n",
        "  totalRows = math.floor(math.sqrt(totalGraphsNum))\n",
        "  totalColumns = math.ceil(totalGraphsNum/totalRows)\n",
        "  while totalColumns % len(dfs) != 0:\n",
        "      totalColumns+=1\n",
        "  figsize=(8*totalColumns, 6*totalRows)\n",
        "  return totalRows, totalColumns, figsize"
      ]
    },
    {
      "cell_type": "code",
      "execution_count": 23,
      "metadata": {
        "id": "EJZDEx8doSUW"
      },
      "outputs": [],
      "source": [
        "def FourierskinnyGraphSizes(dfs = []): \n",
        "  totalRows = len(my_cols[12:])\n",
        "  totalColumns = len(dfs)\n",
        "  figsize=(8*totalColumns, 6*totalRows)\n",
        "  return totalRows, totalColumns, figsize"
      ]
    },
    {
      "cell_type": "markdown",
      "metadata": {
        "id": "GxpLX_ef_P0V"
      },
      "source": [
        "#Averages"
      ]
    },
    {
      "cell_type": "code",
      "execution_count": 24,
      "metadata": {
        "id": "DmxdgJZDDloo"
      },
      "outputs": [],
      "source": [
        "def averageDataInterval(dataTitle=[Milliseconds], start=0, end=3000):\n",
        "  \"\"\"\n",
        "  prints the average of the values for each of the given columns over the given interval\n",
        "  dataTitle: list\n",
        "    a list of strings that are column names\n",
        "  start: int\n",
        "    the starting number in Milliseconds to begin averaging points at\n",
        "  end: int\n",
        "    the ending number in Milliseconds to begin averaging points at\n",
        "  \n",
        "  returns:\n",
        "    none\n",
        "    \n",
        "  example:\n",
        "    averageDataInterval([Milliseconds, 'browDown_L'], 0, 2000)\n",
        "  \"\"\"\n",
        "  # out of bounds error checking\n",
        "  if start>3008 or start<0 or end>3008 or start>=end:\n",
        "    print('Error: Out of Bounds')\n",
        "    return None\n",
        "\n",
        "  # correct starting values in Milliseconds\n",
        "  start = findInData(start)\n",
        "  end = findInData(end)\n",
        "  # print interval range\n",
        "  print(f\"Averages over the interval [{data[Milliseconds][start]}, {data[Milliseconds][end]}]:\")\n",
        "  # for each column calculate and print averages\n",
        "  for cols in dataTitle:\n",
        "    #bs column error checking\n",
        "    if cols == my_cols[0]:\n",
        "      cols = Milliseconds\n",
        "      print('Error: Cannot average \\'bs\\'')\n",
        "    # calculate and print average value for a given column\n",
        "    averageOverInterval = np.average(data[cols][start:end])\n",
        "    print(f\"{cols}: {averageOverInterval}\")"
      ]
    },
    {
      "cell_type": "markdown",
      "metadata": {
        "id": "CKFmU4XdwlZz"
      },
      "source": [
        "##Average To File (FINAL)"
      ]
    },
    {
      "cell_type": "code",
      "execution_count": 25,
      "metadata": {
        "id": "MZVsDFcycYcc"
      },
      "outputs": [],
      "source": [
        "def averageValuesToFile(dfs = [], names = [], individualColPairs = False):\n",
        "  avgValuesFrame = averageValuesFrame(dfs, names, individualColPairs)\n",
        "  avgValuesFrame.to_csv(f\"{myPath}/data & data2/AverageValues.csv\")"
      ]
    },
    {
      "cell_type": "markdown",
      "metadata": {
        "id": "o-mIukfvJvIG"
      },
      "source": [
        "##Internal Functions"
      ]
    },
    {
      "cell_type": "code",
      "execution_count": 26,
      "metadata": {
        "id": "DlVvdWJwaFB3"
      },
      "outputs": [],
      "source": [
        "def covertValuesToArray(dictionary = colPairs):\n",
        "  propertyColumn = list(dictionary.values())\n",
        "  expandedColumn = []\n",
        "  for i in propertyColumn:\n",
        "    for j in range(2):\n",
        "      expandedColumn.append(i[j])\n",
        "  return expandedColumn"
      ]
    },
    {
      "cell_type": "code",
      "execution_count": 27,
      "metadata": {
        "id": "kd4tIqj8_SC_"
      },
      "outputs": [],
      "source": [
        "def averageData(dataTitle=[Milliseconds]):\n",
        "  \"\"\"\n",
        "  prints the average value of all the entries of a column for each of the given colums in data\n",
        "  dataTitle: list\n",
        "    a list of column names\n",
        "\n",
        "  returns:\n",
        "    none\n",
        "    \n",
        "  example:\n",
        "    averageData([Milliseconds, 'browDown_L'])\n",
        "  \"\"\"\n",
        "  for cols in dataTitle:\n",
        "    #if bs\n",
        "    if cols == my_cols[0]:\n",
        "      cols = Milliseconds\n",
        "      print('Error: Cannot average \\'bs\\'')\n",
        "    print(f\"{cols}: {np.average(data[cols])}\")"
      ]
    },
    {
      "cell_type": "code",
      "execution_count": 28,
      "metadata": {
        "id": "Km4WEld0DhF8"
      },
      "outputs": [],
      "source": [
        "def findInData(number=0):\n",
        "  \"\"\"\n",
        "  finds the next entry in Milliseconds that is closest to the given number\n",
        "  number: int\n",
        "    an integer within the range of Milliseconds\n",
        "\n",
        "  returns:\n",
        "    the index of the valid entry\n",
        "    \n",
        "  example:\n",
        "    findInData(451)\n",
        "  \"\"\"\n",
        "  while True:\n",
        "    try:\n",
        "      start = list(data[Milliseconds]).index(number)\n",
        "      break\n",
        "    except:\n",
        "      number+=1\n",
        "\n",
        "  return start"
      ]
    },
    {
      "cell_type": "code",
      "source": [
        "def findInDf(number=0, df = data):\n",
        "  while True:\n",
        "    try:\n",
        "      start = list(df[Milliseconds]).index(number)\n",
        "      break\n",
        "    except:\n",
        "      number+=1\n",
        "\n",
        "  return start"
      ],
      "metadata": {
        "id": "ebC2JVV-nvPA"
      },
      "execution_count": 29,
      "outputs": []
    },
    {
      "cell_type": "code",
      "execution_count": 30,
      "metadata": {
        "id": "yZC88lKowlxw"
      },
      "outputs": [],
      "source": [
        "def averageValuesFrame(dfs = [], names = [],individualColPairs = False):\n",
        "  if individualColPairs == False:\n",
        "    expandedColumn = covertValuesToArray(colPairs)\n",
        "    avgValueFrame = pd.DataFrame(expandedColumn, columns = [\"Blendshapes\"])\n",
        "\n",
        "    for i in range(len(dfs)):\n",
        "      avgValueList = []\n",
        "      for j in expandedColumn:\n",
        "        avgColValue = np.average(dfs[i][j])\n",
        "        avgValueList.append(avgColValue)\n",
        "      avgValueList = pd.Series(avgValueList)\n",
        "      avgValueFrame = pd.concat([avgValueFrame, avgValueList.rename(f\"{names[i]}\")], axis=1)\n",
        "    return avgValueFrame\n",
        "\n",
        "  if individualColPairs == True:\n",
        "    propertyColumn = list(colPairs.keys())\n",
        "    avgValueFrame = pd.DataFrame(propertyColumn, columns = [\"Blendshape Pairs\"])\n",
        "\n",
        "    for i in range(len(dfs)):\n",
        "      avgValueList = []\n",
        "      for j in propertyColumn:\n",
        "        colName1 = colPairs[j][0]\n",
        "        colName2 = colPairs[j][1]\n",
        "\n",
        "        avgColValue1 = np.average(dfs[i][colName1])\n",
        "        avgColValue2 = np.average(dfs[i][colName2])\n",
        "        avgColValue = np.average([avgColValue1, avgColValue2])\n",
        "\n",
        "        avgValueList.append(avgColValue)\n",
        "\n",
        "      avgValueList = pd.Series(avgValueList)\n",
        "      avgValueFrame = pd.concat([avgValueFrame, avgValueList.rename(f\"{names[i]}\")], axis=1)\n",
        "    return avgValueFrame"
      ]
    },
    {
      "cell_type": "markdown",
      "metadata": {
        "id": "WSATt-PKXDzD"
      },
      "source": [
        "#Symmetry Analysis"
      ]
    },
    {
      "cell_type": "markdown",
      "metadata": {
        "id": "XRhAOkpMC7K0"
      },
      "source": [
        "##Internal Functions"
      ]
    },
    {
      "cell_type": "code",
      "execution_count": 31,
      "metadata": {
        "id": "dHsXUgPBSD99"
      },
      "outputs": [],
      "source": [
        "zFillValue = 5"
      ]
    },
    {
      "cell_type": "code",
      "execution_count": 32,
      "metadata": {
        "id": "l5JgKcCUFabT"
      },
      "outputs": [],
      "source": [
        "def peaksAndValleys(dataTitle, ax):\n",
        "  \"\"\"\n",
        "  creates a list of all points in data where each point is equal to the points adjacent to it\n",
        "  dataTitle: string\n",
        "    the name of a column in data\n",
        "  ax:\n",
        "    the axis of a given graph\n",
        "    multiple axis elements are stored as an np.ndarray\n",
        "\n",
        "  returns:\n",
        "    a list of points, where each point is equal to the points adjacent to it\n",
        "  \"\"\"\n",
        "  pav = []\n",
        "  # if ax is a list, set it to its first graph\n",
        "  if type(ax) is np.ndarray:\n",
        "    ax = ax[0]\n",
        "  # for each point in the given column\n",
        "  for n in range(1, len(data[dataTitle])-1):\n",
        "    # if this point is increaseing, color it red\n",
        "    if data[dataTitle][n-1] < data[dataTitle][n] and data[dataTitle][n] < data[dataTitle][n+1]:\n",
        "      ax.scatter(data[Milliseconds][n], data[dataTitle][n], color = 'Red')\n",
        "      pass\n",
        "    # if this point is decreasing, color it green\n",
        "    elif data[dataTitle][n-1] > data[dataTitle][n] and data[dataTitle][n] > data[dataTitle][n+1]:\n",
        "      ax.scatter(data[Milliseconds][n], data[dataTitle][n], color = 'Green')\n",
        "      pass\n",
        "    # if this graph is neither increasing nor decreasing, append it to pav\n",
        "    else:\n",
        "      pav.append((data[Milliseconds][n], data[dataTitle][n]))\n",
        "  # color all points in pav black\n",
        "  for n in pav:\n",
        "    ax.scatter(n[0], n[1], color = 'Black')\n",
        "  return pav"
      ]
    },
    {
      "cell_type": "code",
      "source": [
        "def peaksAndValleysDF(dataTitle, df, ax = None, displaygraph = False):\n",
        "  \"\"\"\n",
        "  creates a list of all points in data where each point is equal to the points adjacent to it\n",
        "  dataTitle: string\n",
        "    the name of a column in data\n",
        "  ax:\n",
        "    the axis of a given graph\n",
        "    multiple axis elements are stored as an np.ndarray\n",
        "\n",
        "  returns:\n",
        "    a list of points, where each point is equal to the points adjacent to it\n",
        "  \"\"\"\n",
        "  pav = []\n",
        "  # if ax is a list, set it to its first graph\n",
        "  if type(ax) is np.ndarray:\n",
        "    ax = ax[0]\n",
        "  # for each point in the given column\n",
        "  for n in range(1, len(df[dataTitle])-1):\n",
        "    # if this point is increaseing, color it red\n",
        "    if df[dataTitle][n-1] < df[dataTitle][n] and df[dataTitle][n] < df[dataTitle][n+1]:\n",
        "      if displaygraph == True:\n",
        "        ax.scatter(df[Milliseconds][n], df[dataTitle][n], color = 'Red')\n",
        "      else:\n",
        "        pass\n",
        "    # if this point is decreasing, color it green\n",
        "    elif df[dataTitle][n-1] > df[dataTitle][n] and df[dataTitle][n] > df[dataTitle][n+1]:\n",
        "      if displaygraph == True:\n",
        "        ax.scatter(df[Milliseconds][n], df[dataTitle][n], color = 'Green')\n",
        "      else:\n",
        "        pass\n",
        "    # if this graph is neither increasing nor decreasing, append it to pav\n",
        "    else:\n",
        "      pav.append((df[Milliseconds][n], df[dataTitle][n]))\n",
        "  # color all points in pav black\n",
        "  if displaygraph == True:\n",
        "    # add the graph line to the graph\n",
        "    ax.plot(df[Milliseconds], df[dataTitle], zorder = 0, label = dataTitle)\n",
        "    for n in pav:\n",
        "      ax.scatter(n[0], n[1], color = 'Black')\n",
        "    ax.legend()\n",
        "    return ax\n",
        "  if displaygraph == False:\n",
        "    return pav"
      ],
      "metadata": {
        "id": "UfYjb_NX5lxk"
      },
      "execution_count": 33,
      "outputs": []
    },
    {
      "cell_type": "code",
      "execution_count": 34,
      "metadata": {
        "id": "T7WmzSzXHJD-"
      },
      "outputs": [],
      "source": [
        "def createPavFrame(dataTitle, pav):\n",
        "  \"\"\"\n",
        "  creates a DataFrame that has all of the peaks and valleys in pav, one peak or valley for each column\n",
        "  dataTitle: string\n",
        "    the name of a column in data\n",
        "  pav:\n",
        "    the output of the pav function for the given dataTitle\n",
        "\n",
        "  returns:\n",
        "    a DataFrame that has all of the peaks and valleys in pav, one peak or valley for each column\n",
        "  \"\"\"\n",
        "  pavFrame = pd.DataFrame()\n",
        "\n",
        "  skipValue = (max(data[dataTitle])-min(data[dataTitle]))/8\n",
        "  i = 0\n",
        "  tpoint = 0\n",
        "  for n in range(len(pav)-1):\n",
        "    index = findInData(pav[n][0])\n",
        "    index2 = findInData(pav[n+1][0])\n",
        "    if abs(data[dataTitle][index] - data[dataTitle][index2]) > skipValue or n==len(pav)-3:\n",
        "      j = n+1\n",
        "      ser = pd.Series(pav[i:j], name=f\"Peak/Valley {str(tpoint).zfill(zFillValue)}\")\n",
        "      tpoint=tpoint+1\n",
        "      pavFrame = pd.concat([pavFrame, ser], axis=1)\n",
        "      i = j\n",
        "  \n",
        "  return pavFrame"
      ]
    },
    {
      "cell_type": "code",
      "execution_count": 35,
      "metadata": {
        "id": "Ws5B-2GXJys3"
      },
      "outputs": [],
      "source": [
        "def tupleFixer(column):\n",
        "  \"\"\"\n",
        "  creates an array with one-element entries\n",
        "  dataTitle: string\n",
        "    the name of a column in data\n",
        "  ax:\n",
        "    the axis of a given graph\n",
        "    multiple axis elements are stored as an np.ndarray\n",
        "\n",
        "  returns:\n",
        "    an array that is the same as the input column, but replaces all tuples with only their x-value\n",
        "  \"\"\"\n",
        "  new = []\n",
        "  for x in column:\n",
        "    if x is np.nan:\n",
        "      new.append(x)\n",
        "    else:\n",
        "      new.append(x[0])\n",
        "  new = np.array(new)\n",
        "  return new"
      ]
    },
    {
      "cell_type": "code",
      "execution_count": 36,
      "metadata": {
        "id": "MxWtU2RN9hCn"
      },
      "outputs": [],
      "source": [
        "def pavMidpoint(column):\n",
        "  \"\"\"\n",
        "  finds the x-value of the midpoint of a given column\n",
        "  dataTitle: string\n",
        "    the name of a column in data\n",
        "\n",
        "  returns:\n",
        "    the x-value of the midpoint of a given column\n",
        "  \"\"\"\n",
        "  new = tupleFixer(column)\n",
        "\n",
        "  midPoint = np.nanmedian(new)\n",
        "  #if even number of elements, takes the lower of the two middle values\n",
        "  midPoint = new[new<=midPoint].max()\n",
        "\n",
        "  return midPoint"
      ]
    },
    {
      "cell_type": "code",
      "execution_count": 37,
      "metadata": {
        "id": "eNNsh4ZUBUh6"
      },
      "outputs": [],
      "source": [
        "def symmetryValue(column, dataTitle, checkRange=10):\n",
        "  \"\"\"\n",
        "  assigns a value to quantify the symmetry of a given dataTitle\n",
        "  column:\n",
        "    a column in a given pavFrame\n",
        "  dataTitle: string\n",
        "    the name of a column in data\n",
        "  checkRange:\n",
        "    the amount of points to the left and right that the function should search\n",
        "\n",
        "  returns:\n",
        "    returns a value to quantify the symmetry of a given dataTitle\n",
        "  \"\"\"\n",
        "  midPointX = pavMidpoint(column)\n",
        "  midPointIndex = findInData(midPointX)\n",
        "  midPointY = data[dataTitle][midPointIndex]\n",
        "\n",
        "  symmetryRange = data[dataTitle][midPointIndex-checkRange:midPointIndex+checkRange+1]\n",
        "\n",
        "  rightSideInc = None\n",
        "  leftSideInc = None\n",
        "  n = 1\n",
        "\n",
        "  while rightSideInc == None or leftSideInc == None and n<=checkRange+1:\n",
        "    if symmetryRange[midPointIndex] < symmetryRange[midPointIndex+n]:\n",
        "      rightSideInc = \"Increasing\"\n",
        "    elif symmetryRange[midPointIndex] > symmetryRange[midPointIndex+n]:\n",
        "      rightSideInc = \"Decreasing\"\n",
        "    elif symmetryRange[midPointIndex] == symmetryRange[midPointIndex+n]:\n",
        "      rightSideInc = None\n",
        "    if symmetryRange[midPointIndex] < symmetryRange[midPointIndex-n]:\n",
        "      leftSideInc = \"Increasing\"\n",
        "    elif symmetryRange[midPointIndex] > symmetryRange[midPointIndex-n]:\n",
        "      leftSideInc = \"Decreasing\"\n",
        "    elif symmetryRange[midPointIndex] == symmetryRange[midPointIndex-n]:\n",
        "      leftSideInc = None\n",
        "    n+=1\n",
        "\n",
        "  for n in range(2, checkRange):\n",
        "    if symmetryRange[midPointIndex+n-1] < symmetryRange[midPointIndex+n]:\n",
        "      currentChange = \"Increasing\"\n",
        "    elif symmetryRange[midPointIndex+n-1] > symmetryRange[midPointIndex+n]:\n",
        "      currentChange = \"Decreasing\"\n",
        "    elif symmetryRange[midPointIndex+n-1] == symmetryRange[midPointIndex+n]:\n",
        "      currentChange = rightSideInc\n",
        "    if currentChange != rightSideInc:\n",
        "      checkRange = n-1\n",
        "      break\n",
        "    if symmetryRange[midPointIndex-n+1] < symmetryRange[midPointIndex-n]:\n",
        "      currentChange = \"Increasing\"\n",
        "    elif symmetryRange[midPointIndex-n+1] > symmetryRange[midPointIndex-n]:\n",
        "      currentChange = \"Decreasing\"\n",
        "    elif symmetryRange[midPointIndex-n+1] == symmetryRange[midPointIndex-n]:\n",
        "      currentChange = leftSideInc\n",
        "    if currentChange != leftSideInc and n-1 <= checkRange:\n",
        "      checkRange = n-1\n",
        "      break\n",
        "\n",
        "  symmetryRangeNew = data[dataTitle][midPointIndex-checkRange:midPointIndex+checkRange+1]\n",
        "\n",
        "  symmetryNumbers = []\n",
        "  for n in range(1,checkRange+1):\n",
        "    x = abs(symmetryRangeNew[midPointIndex]-symmetryRangeNew[midPointIndex-n])\n",
        "    symmetryNumbers.append(x)\n",
        "    x = abs(symmetryRangeNew[midPointIndex+n]-symmetryRangeNew[midPointIndex])\n",
        "    symmetryNumbers.append(x)\n",
        "  return np.mean(symmetryNumbers)"
      ]
    },
    {
      "cell_type": "code",
      "execution_count": 38,
      "metadata": {
        "id": "bzrq7AUWGAVc"
      },
      "outputs": [],
      "source": [
        "def symmetryValuesPosition(dataTitle, df = data):\n",
        "  tempSymmetryValues = []\n",
        "  for i, j in zip(df[dataTitle[0]], df[dataTitle[1]]):\n",
        "    if i+j==0:\n",
        "      tempSymmetryValues.append(0)\n",
        "    else:\n",
        "      tempSymmetryValues.append(np.round(abs((j-i)/((i+j)/2)), 4))\n",
        "  return np.mean(tempSymmetryValues)"
      ]
    },
    {
      "cell_type": "code",
      "execution_count": 39,
      "metadata": {
        "id": "3cZc_5xfudf9"
      },
      "outputs": [],
      "source": [
        "def allSymmetry(dfs = [data]):\n",
        "  for i in dfs:\n",
        "    allSymmArr = []\n",
        "    for key, value in colPairs.items():\n",
        "      allSymmArr.append(np.round(100*compareSymmetryPosition(value, i), 2))\n",
        "    for n, key in zip(range(len(colPairs.keys())),colPairs.keys()):\n",
        "      compareSymmetryPosition(colPairs[key], i)\n",
        "      print(f\"{key}: {allSymmArr[n]}\")\n",
        "    print(f\"Mean average value: {np.round(np.mean(allSymmArr), 2)}\")\n",
        "    print()"
      ]
    },
    {
      "cell_type": "markdown",
      "metadata": {
        "id": "O2k6x407L04u"
      },
      "source": [
        "##AnalyzeSymmetry Function\n",
        "A function that shows the peaks and valleys of a column"
      ]
    },
    {
      "cell_type": "code",
      "execution_count": 40,
      "metadata": {
        "id": "caxdbWitXIRv"
      },
      "outputs": [],
      "source": [
        "def analyzeSymmetry(dataTitle='jawForward'):\n",
        "  \"\"\"\n",
        "  creates and displays a dictionary for the peaks and valleys of data, where\n",
        "  the key is the peak number in the format 'Peak/Valley XXX', and the value is\n",
        "  a list with the x-value of where the peak or valley appears and the \n",
        "  symmetry value for that peak or valley\n",
        "  dataTitle:\n",
        "    the column in data which is analyzed\n",
        "\n",
        "  returns:\n",
        "    none, displays dictionary of peaks and valleys and a graph that shows\n",
        "    which points are increasing, which remain the same, and which ones are decreasing\n",
        "  \"\"\"\n",
        "\n",
        "  #graphing\n",
        "  fig, ax = graphPlotData([dataTitle], False, False)\n",
        "\n",
        "  #creating pav AND adding the graphical dots\n",
        "  pav = peaksAndValleys(dataTitle, ax)\n",
        "\n",
        "  #creating & populating pavFrame\n",
        "  pavFrame = createPavFrame(dataTitle, pav)\n",
        "\n",
        "  #creating pavdict\n",
        "  pavDict = {}\n",
        "  # for each peak or valley\n",
        "  for n in range(len(pavFrame.columns)):\n",
        "    # create a string that is 3 characters long, consisting of left zeros in empty places\n",
        "    # this string will be the title of the corresponding peak or valley midpoint\n",
        "    sortedN = str(n).zfill(zFillValue)\n",
        "    #establish title\n",
        "    titleOfPoint=f\"Peak/Valley {sortedN}\"\n",
        "    # find the midpoint of the entries in the given column of pavFrame, converted to int\n",
        "    midpointOfPavFrameColumn = int(pavMidpoint(pavFrame[titleOfPoint]))\n",
        "    # finding the symmetry value that corresponds to dataTitle in data\n",
        "    # then, round the symmetry value to 4 decimal places\n",
        "    dataTitleSymmetryValue = symmetryValue(pavFrame[titleOfPoint], dataTitle)\n",
        "    dataTitleSymmetryValueRounded = np.round(dataTitleSymmetryValue, 4)\n",
        "    # create an entry in pavDict with a title \"titleofPoint\" that corresponds to (x, symmetry)\n",
        "    # where x is the time value for the midpoint of given peak/valley\n",
        "    # where symmetry is the symmetry value for the given peak/valley\n",
        "    pavDict[titleOfPoint] = [midpointOfPavFrameColumn, dataTitleSymmetryValueRounded]\n",
        "  \n",
        "  display(pavDict)\n",
        "# ---------------------------------------------------------------------------------\n",
        "# analyzeSymmetry('jawForward')"
      ]
    },
    {
      "cell_type": "markdown",
      "metadata": {
        "id": "YqFkhYhvULA9"
      },
      "source": [
        "#Symmetry Comparison"
      ]
    },
    {
      "cell_type": "markdown",
      "metadata": {
        "id": "CUfp5VXXJhAc"
      },
      "source": [
        "##Compare Symmetry Graph Functions\n",
        "Functions that display graphs of columns of the data sets for comparison"
      ]
    },
    {
      "cell_type": "code",
      "execution_count": 41,
      "metadata": {
        "id": "tLYKzWpqYAvb"
      },
      "outputs": [],
      "source": [
        "def compareSymmetryGraphs(dfs = [], titles = [], skinnyGraph = True, scaled = False):\n",
        "  if skinnyGraph == True:\n",
        "    totalRows, totalColumns, figsize = skinnyGraphSizes(dfs)\n",
        "  else:\n",
        "    totalRows, totalColumns, figsize = squareGraphSizes(dfs)\n",
        "\n",
        "  fig, ax = plt.subplots(totalRows, totalColumns, figsize = figsize)\n",
        "  \n",
        "  if scaled == True:\n",
        "    plt.setp(ax, ylim = (0, 1))\n",
        "\n",
        "  graphColPair(dfs, titles, colPairs.keys(), ax, totalRows)\n",
        "  display(fig)\n",
        "  return fig"
      ]
    },
    {
      "cell_type": "markdown",
      "metadata": {
        "id": "mHIilKasTJs5"
      },
      "source": [
        "## Symmetry Values Functions\n",
        "Functions that the symmetry values for comparison between two parts of a colPair"
      ]
    },
    {
      "cell_type": "code",
      "execution_count": 42,
      "metadata": {
        "id": "qBH-O1vuZkb8"
      },
      "outputs": [],
      "source": [
        "def symmetryValues(dfs = [], names = []):\n",
        "  propertyColumn = list(colPairs.keys())\n",
        "  symmValueFrame = pd.DataFrame(propertyColumn, columns = [\"Blendshapes\"])\n",
        "\n",
        "  for i in range(len(dfs)):\n",
        "    symmValueList = []\n",
        "    for key in colPairs.keys():\n",
        "      col1 = dfs[i][colPairs[key][0]]\n",
        "      col2 = dfs[i][colPairs[key][1]]\n",
        "      symmValue = getSymmetryValue(col1, col2)\n",
        "      symmValueList.append(symmValue)\n",
        "    symmValueList = pd.Series(symmValueList)\n",
        "    symmValueFrame = pd.concat([symmValueFrame, symmValueList.rename(f\"{names[i]}\")], axis=1)\n",
        "  return symmValueFrame"
      ]
    },
    {
      "cell_type": "markdown",
      "metadata": {
        "id": "ye8zj_KmIqEt"
      },
      "source": [
        "##ToFile Functions (FINAL)\n",
        "Functions that create an output file for graphs"
      ]
    },
    {
      "cell_type": "code",
      "execution_count": 43,
      "metadata": {
        "id": "FW7t9Jy_EzPJ"
      },
      "outputs": [],
      "source": [
        "# def compareSymmetryGraphsToFile(dfs = [], dfs_vel = [], dfs_accel = [], skinnyGraph = True, scaled = False):\n",
        "def compareSymmetryGraphsToFile(dfs = [], titles = [], skinnyGraph = True, scaled = False):\n",
        "  fig = compareSymmetryGraphs(dfs, titles, skinnyGraph, scaled)\n",
        "  saveGraph(fig, \"SymmetryGraph\")\n",
        "\n",
        "  # if len(dfs_vel) > 0:\n",
        "  #   name = \"Velocity\"\n",
        "  #   fig = compareSymmetryGraphs(dfs_vel, skinnyGraph, scaled)\n",
        "  #   saveGraph(fig, f\"SymmetryGraph{name}\")\n",
        "\n",
        "  # if len(dfs_accel) > 0:\n",
        "  #   name = \"Acceleration\"\n",
        "  #   fig = compareSymmetryGraphs(dfs_accel, skinnyGraph, scaled)\n",
        "  #   saveGraph(fig, f\"SymmetryGraph{name}\")"
      ]
    },
    {
      "cell_type": "code",
      "execution_count": 44,
      "metadata": {
        "id": "7EDPLFXvhLHv"
      },
      "outputs": [],
      "source": [
        "def symmetryValuesToFile(dfs = [], names = []):\n",
        "  symmValueFrame = symmetryValues(dfs, names)\n",
        "  symmValueFrame.to_csv(f\"{myPath}/data & data2/SymmetryValues.csv\")"
      ]
    },
    {
      "cell_type": "markdown",
      "metadata": {
        "id": "rzQ2Od3ESJ7z"
      },
      "source": [
        "##Internal Functions"
      ]
    },
    {
      "cell_type": "code",
      "execution_count": 45,
      "metadata": {
        "id": "8KBqiXYcY3rF"
      },
      "outputs": [],
      "source": [
        "def getSymmetryValue(y1, y2):\n",
        "  tempSymmetryValues = []\n",
        "  for i, j in zip(y1, y2):\n",
        "    if i+j==0:\n",
        "      tempSymmetryValues.append(0)\n",
        "    else:\n",
        "      difference = abs((j-i))\n",
        "      tempSymmetryValues.append(difference)\n",
        "  averageSymmetryValue = np.mean(tempSymmetryValues)\n",
        "  return np.round(averageSymmetryValue, 4)"
      ]
    },
    {
      "cell_type": "code",
      "execution_count": 46,
      "metadata": {
        "id": "aeNLGNlGT5p-"
      },
      "outputs": [],
      "source": [
        "def skinnyGraphSizes(dfs = []): \n",
        "  totalRows = len(colPairs.keys())\n",
        "  totalColumns = len(dfs)\n",
        "  figsize=(8*totalColumns, 6*totalRows)\n",
        "  return totalRows, totalColumns, figsize"
      ]
    },
    {
      "cell_type": "code",
      "execution_count": 47,
      "metadata": {
        "id": "wbgVl_gZS9U2"
      },
      "outputs": [],
      "source": [
        "def squareGraphSizes(dfs = []):\n",
        "  totalGraphsNum = len(dfs)*len(colPairs.keys())\n",
        "  totalRows = math.floor(math.sqrt(totalGraphsNum))\n",
        "  totalColumns = math.ceil(totalGraphsNum/totalRows)\n",
        "  while totalColumns % len(dfs) != 0:\n",
        "      totalColumns+=1\n",
        "  figsize=(8*totalColumns, 6*totalRows)\n",
        "  return totalRows, totalColumns, figsize"
      ]
    },
    {
      "cell_type": "code",
      "execution_count": 48,
      "metadata": {
        "id": "EZF-RNXWPfWq"
      },
      "outputs": [],
      "source": [
        "def saveGraph(fig, name):\n",
        "  fileName = f'{myPath}/data & data2/{name}.png'\n",
        "  fig.savefig(fileName)"
      ]
    },
    {
      "cell_type": "code",
      "execution_count": 49,
      "metadata": {
        "id": "8rmQS_gtKZoP"
      },
      "outputs": [],
      "source": [
        "def graphColPair(dfs = [], titles = [],keys = [], ax = \"Placeholder\", totalRows = 5):\n",
        "  row = 0\n",
        "  column = 0\n",
        "\n",
        "  for key in keys:\n",
        "    for i in range(len(dfs)):\n",
        "      colTitles = colPairs[key]\n",
        "      x1=dfs[i][Milliseconds]\n",
        "      y11=dfs[i][colTitles[0]]\n",
        "      y12=dfs[i][colTitles[1]]\n",
        "\n",
        "      ax[row, column+i].plot(x1,y11, label=colTitles[0])\n",
        "      ax[row, column+i].plot(x1,y12, label=colTitles[1])\n",
        "      ax[row, column+i].set_title(f'{titles[i]}')\n",
        "      ax[row, column+i].legend()\n",
        "    row+=1\n",
        "    if row%totalRows==0:\n",
        "      row = 0\n",
        "      column+=len(dfs)"
      ]
    },
    {
      "cell_type": "markdown",
      "source": [
        "#Eye Blink Counting"
      ],
      "metadata": {
        "id": "Jxdv47_6_i9J"
      }
    },
    {
      "cell_type": "markdown",
      "source": [
        "##Count Blinks & Blinks per Second (FINAL)"
      ],
      "metadata": {
        "id": "PwubzESWHn5I"
      }
    },
    {
      "cell_type": "code",
      "source": [
        "def CountBlinks(df = data, tolerance = 0.2, middlePointMax = 10):\n",
        "  middlePoints = 0\n",
        "  pav_L = peaksAndValleysDF(\"eyeBlink_L\", df)\n",
        "  pav_R = peaksAndValleysDF(\"eyeBlink_R\", df)\n",
        "  pav = [pav_L, pav_R]\n",
        "\n",
        "  for i in range(len(pav)):\n",
        "    highestPav = max(pav[i], key=itemgetter(1))[1]\n",
        "    lowestPav = min(pav[i], key=itemgetter(1))[1]\n",
        "\n",
        "    mediumvalue = (highestPav+lowestPav)/2\n",
        "    lowbound = mediumvalue-tolerance\n",
        "    highbound = mediumvalue+tolerance\n",
        "\n",
        "    for j in pav[i]:\n",
        "      if j[1] > lowbound and j[1] < highbound:\n",
        "        middlePoints+=1\n",
        "    if middlePoints>=middlePointMax:\n",
        "      if i == 0:\n",
        "        LorR = \"L\"\n",
        "      if i == 1:\n",
        "        LorR = \"R\"\n",
        "      print(f\"Please review eyeBlink_{LorR} Manually\")\n",
        "    else:\n",
        "      blinks = 0\n",
        "      seconds = max(df[Milliseconds])/1000\n",
        "\n",
        "      point0 = 0\n",
        "      point1 = 1\n",
        "      for y in pav[i][:-1]:\n",
        "        y1 = pav[i][point0][1]\n",
        "        y2 = pav[i][point1][1]\n",
        "        if y1 < lowbound and y2 > highbound:\n",
        "          blinks+=1\n",
        "        point0+=1\n",
        "        point1+=1\n",
        "\n",
        "      bps = blinks/seconds\n",
        "      if i == 0:\n",
        "        LorR = \"L\"\n",
        "      if i == 1:\n",
        "        LorR = \"R\"\n",
        "      print(f\"eyeBlink_{LorR} has {blinks} blinks, for a total of {bps} blinks per second.\")\n",
        "  return mediumvalue"
      ],
      "metadata": {
        "id": "N5WV8YFX_nJp"
      },
      "execution_count": 50,
      "outputs": []
    },
    {
      "cell_type": "code",
      "source": [
        "def showBlinkGraphs(df = data):\n",
        "  fig, ax = plt.subplots(1, 1, figsize = (8, 6))\n",
        "  peaksAndValleysDF(\"eyeBlink_L\", df, ax, True)\n",
        "  fig, ax = plt.subplots(1, 1, figsize = (8, 6))\n",
        "  peaksAndValleysDF(\"eyeBlink_R\", df, ax, True)"
      ],
      "metadata": {
        "id": "FH4ux24oB-CG"
      },
      "execution_count": 51,
      "outputs": []
    },
    {
      "cell_type": "markdown",
      "source": [
        "##Internal Functions"
      ],
      "metadata": {
        "id": "th8kESrrAp4m"
      }
    },
    {
      "cell_type": "code",
      "source": [
        "def peaksAndValleysDF(dataTitle, df):\n",
        "  pav = []\n",
        "  # for each point in the given column\n",
        "  for n in range(1, len(df[dataTitle])-1):\n",
        "    # if this point is increaseing, color it red\n",
        "    if df[dataTitle][n-1] < df[dataTitle][n] and df[dataTitle][n] < df[dataTitle][n+1]:\n",
        "      pass\n",
        "    # if this point is decreasing, color it green\n",
        "    elif df[dataTitle][n-1] > df[dataTitle][n] and df[dataTitle][n] > df[dataTitle][n+1]:\n",
        "      pass\n",
        "    # if this graph is neither increasing nor decreasing, append it to pav\n",
        "    else:\n",
        "      pav.append((df[Milliseconds][n], df[dataTitle][n]))\n",
        "  return pav"
      ],
      "metadata": {
        "id": "3-VA57ZvAPjj"
      },
      "execution_count": 52,
      "outputs": []
    },
    {
      "cell_type": "markdown",
      "source": [
        "#Difference Functions"
      ],
      "metadata": {
        "id": "zSFn9fmItV_0"
      }
    },
    {
      "cell_type": "markdown",
      "source": [
        "##General Difference Functions"
      ],
      "metadata": {
        "id": "mNgxlirbxmm8"
      }
    },
    {
      "cell_type": "code",
      "source": [
        "def difference(df1, colTitle1, colTitle2):\n",
        "  totalgraphs = 3\n",
        "  y1 = df1[colTitle1]\n",
        "  y2 = df1[colTitle2]\n",
        "  y3 = y1-y2\n",
        "  fig, ax = plt.subplots(totalgraphs, 1, figsize = (8, 6*totalgraphs))\n",
        "  ax[0].plot(df1[Milliseconds],y1, label = f\"{colTitle1}\")\n",
        "  ax[1].plot(df1[Milliseconds],y2, label = f\"{colTitle2}\")\n",
        "  ax[2].plot(df1[Milliseconds],y3, label = f\"Difference between {colTitle1} and {colTitle2}\")\n",
        "  for i in range (0,2):\n",
        "    ax[i].legend()\n",
        "  return fig"
      ],
      "metadata": {
        "id": "2_KwCrKAtY9Y"
      },
      "execution_count": 53,
      "outputs": []
    },
    {
      "cell_type": "code",
      "source": [
        "def differenceToFile(df1, colTitle1, colTitle2):\n",
        "  fig = difference(df1, colTitle1, colTitle2)\n",
        "  saveGraph(fig, f\"Difference between {colTitle1} and {colTitle2}\")"
      ],
      "metadata": {
        "id": "vBY4rhnsvxg0"
      },
      "execution_count": 54,
      "outputs": []
    },
    {
      "cell_type": "markdown",
      "source": [
        "##Eye Difference Functions"
      ],
      "metadata": {
        "id": "51td5Ncwxow8"
      }
    },
    {
      "cell_type": "code",
      "source": [
        "def eyeDifference(df1, scaledDifference = False):\n",
        "  totalgraphs = 3\n",
        "  fig, ax = plt.subplots(totalgraphs, 2, figsize = (8*2, 6*totalgraphs))\n",
        "\n",
        "  for i in range(0,2):\n",
        "    if i == 0:\n",
        "      colTitle1 = \"LE x\"\n",
        "      colTitle2 = \"RE x\"\n",
        "    if i == 1:\n",
        "      colTitle1 = \"LE y\"\n",
        "      colTitle2 = \"RE y\"\n",
        "\n",
        "    y1 = df1[colTitle1]\n",
        "    y2 = df1[colTitle2]\n",
        "    y3 = y1-y2\n",
        "    ax[0,i].plot(df1[Milliseconds],y1, label = f\"{colTitle1}\")\n",
        "    ax[1,i].plot(df1[Milliseconds],y2, label = f\"{colTitle2}\")\n",
        "    ax[2,i].plot(df1[Milliseconds],y3, label = f\"Difference between {colTitle1} and {colTitle2}\")\n",
        "    for j in range(0,2):\n",
        "      ax[j,i].set_ylim(-30, 30)\n",
        "      ax[j,i].legend()\n",
        "\n",
        "  if scaledDifference == True:\n",
        "    ymin0, ymax0 = ax[2,0].get_ylim()\n",
        "    ymin1, ymax1 = ax[2,1].get_ylim()\n",
        "    if ymin1 < ymin0:\n",
        "      ymin = ymin1\n",
        "    if ymin1 > ymin0:\n",
        "      ymin = ymin0\n",
        "    if ymax1 < ymax0:\n",
        "      ymax = ymax0\n",
        "    if ymax1 > ymax0:\n",
        "      ymax = ymax1\n",
        "    ax[2,0].set_ylim(ymin, ymax)\n",
        "    ax[2,1].set_ylim(ymin, ymax)\n",
        "\n",
        "  return fig"
      ],
      "metadata": {
        "id": "-_DHY4_xxsID"
      },
      "execution_count": 55,
      "outputs": []
    },
    {
      "cell_type": "code",
      "source": [
        "eyeDifference(data)"
      ],
      "metadata": {
        "colab": {
          "base_uri": "https://localhost:8080/",
          "height": 1000
        },
        "id": "c0D0A2lRqguy",
        "outputId": "820c4692-7106-4e95-9624-e592515ee231"
      },
      "execution_count": 65,
      "outputs": [
        {
          "output_type": "execute_result",
          "data": {
            "text/plain": [
              "<Figure size 1152x1296 with 6 Axes>"
            ],
            "image/png": "[encoded data removed]"
          },
          "metadata": {},
          "execution_count": 65
        },
        {
          "output_type": "display_data",
          "data": {
            "text/plain": [
              "<Figure size 1152x1296 with 6 Axes>"
            ],
            "image/png": "[encoded data removed]"
          },
          "metadata": {
            "needs_background": "light"
          }
        }
      ]
    },
    {
      "cell_type": "code",
      "source": [
        "def eyeDifferenceToFile(dfs = [], names = [], scaledDifference = False):\n",
        "  for i in range(len(dfs)):\n",
        "    fig = eyeDifference(dfs[i], scaledDifference)\n",
        "    saveGraph(fig, f\"LE-RE Difference \"+names[i])"
      ],
      "metadata": {
        "id": "pHj-3XBRyaZk"
      },
      "execution_count": 57,
      "outputs": []
    },
    {
      "cell_type": "markdown",
      "metadata": {
        "id": "CUO92M6HG2mW"
      },
      "source": [
        "#End Functions (FINAL)"
      ]
    },
    {
      "cell_type": "code",
      "execution_count": 58,
      "metadata": {
        "id": "yGBr92XIG64I"
      },
      "outputs": [],
      "source": [
        "def outputAllDataAnalysis(dfs = [], names = [], skinnyGraph = True, scaled = True, individualColPairs = False, scaledDifference = False):\n",
        "  compareSymmetryGraphsToFile(dfs, names, skinnyGraph, scaled)\n",
        "  symmetryValuesToFile(dfs, names)\n",
        "  averageValuesToFile(dfs, names, individualColPairs)\n",
        "  graphAllToFile(dfs, names, True, False)\n",
        "  eyeDifferenceToFile(dfs, names, scaledDifference)"
      ]
    },
    {
      "cell_type": "code",
      "source": [
        "dfs = [data, data13]\n",
        "names = [\"normal\", \"ia left cimplex nystag. bilat inos\"]\n",
        "# outputAllDataAnalysis(dfs, names, True, False, False)"
      ],
      "metadata": {
        "id": "ywR8QPbt5kJ_"
      },
      "execution_count": 59,
      "outputs": []
    }
  ],
  "metadata": {
    "colab": {
      "collapsed_sections": [
        "5B0OoZubwSh7",
        "ZE8CsBLuwarI"
      ],
      "name": "Project.ipynb",
      "provenance": [],
      "toc_visible": true,
      "mount_file_id": "1sQahL-K5DcMqxBymblCXkXXkwvWdVFRq",
      "authorship_tag": "ABX9TyMXcqvM8LACzSAJeLwbJwXq"
    },
    "kernelspec": {
      "display_name": "Python 3",
      "name": "python3"
    },
    "language_info": {
      "name": "python"
    }
  },
  "nbformat": 4,
  "nbformat_minor": 0
}